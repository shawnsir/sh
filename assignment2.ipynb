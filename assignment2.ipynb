{
 "cells": [
  {
   "cell_type": "code",
   "execution_count": null,
   "metadata": {},
   "outputs": [],
   "source": [
    "#Write a Python Program to implement your own myreduce() function which works exactly like\n",
    "#Python's built-in function reduce()"
   ]
  },
  {
   "cell_type": "code",
   "execution_count": 103,
   "metadata": {},
   "outputs": [
    {
     "name": "stdout",
     "output_type": "stream",
     "text": [
      "The value of my reduce function:101\n"
     ]
    }
   ],
   "source": [
    "def myreduce(my_function, my_list):\n",
    "    first_list = my_list[0]\n",
    "    for obj in my_list[1:]:\n",
    "        final_list = my_function(first_list, obj)\n",
    "    return final_list\n",
    "\n",
    "def summa(x,y):\n",
    "    return x+y\n",
    "\n",
    "ypain = [12,4,5,89]\n",
    "print(\"The value of my reduce function:\" + str(myreduce(summa, ypain)))"
   ]
  },
  {
   "cell_type": "code",
   "execution_count": null,
   "metadata": {},
   "outputs": [],
   "source": [
    "Write a Python program to implement your own myfilter() function which works exactly like\n",
    "Python's built-in function filter()"
   ]
  },
  {
   "cell_type": "code",
   "execution_count": 16,
   "metadata": {},
   "outputs": [
    {
     "name": "stdout",
     "output_type": "stream",
     "text": [
      "The val of myfilter in test is :[2, 4, 6]\n"
     ]
    }
   ],
   "source": [
    "def myfilter(myfunction,mylist):\n",
    "    \n",
    "    emp_list = []\n",
    "    for obj in mylist:\n",
    "        if myfunction(obj):\n",
    "            emp_list.append(obj)\n",
    "    return emp_list\n",
    "def divm(n):\n",
    "    if n%2 == 0:\n",
    "        return True\n",
    "    \n",
    "lm = [2,4,5,6]\n",
    "print(\"The val of myfilter in test is :\" + str(myfilter(divm, lm)))"
   ]
  },
  {
   "cell_type": "code",
   "execution_count": null,
   "metadata": {},
   "outputs": [],
   "source": [
    "#Implement List comprehensions to produce the following lists.\n",
    "#Write List comprehensions to produce the following Lists"
   ]
  },
  {
   "cell_type": "code",
   "execution_count": null,
   "metadata": {},
   "outputs": [],
   "source": [
    "#['A', 'C', 'A', 'D', 'G', 'I', ’L’, ‘ D’]"
   ]
  },
  {
   "cell_type": "code",
   "execution_count": 18,
   "metadata": {},
   "outputs": [
    {
     "data": {
      "text/plain": [
       "['A', 'C', 'A', 'D', 'G', 'I', 'L', 'D']"
      ]
     },
     "execution_count": 18,
     "metadata": {},
     "output_type": "execute_result"
    }
   ],
   "source": [
    "lst = ['A','C','A','D','G','I','L','D']\n",
    "\n",
    "ff_list = [itm for itm in lst]\n",
    "\n",
    "ff_list"
   ]
  },
  {
   "cell_type": "code",
   "execution_count": null,
   "metadata": {},
   "outputs": [],
   "source": [
    "#['x', 'xx', 'xxx', 'xxxx', 'y', 'yy', 'yyy', 'yyyy', 'z', 'zz', 'zzz', 'zzzz']"
   ]
  },
  {
   "cell_type": "code",
   "execution_count": 76,
   "metadata": {},
   "outputs": [
    {
     "data": {
      "text/plain": [
       "['x', 'xx', 'xxx', 'xxxx', 'y', 'yy', 'yyy', 'yyyy', 'z', 'zz', 'zzz', 'zzzz']"
      ]
     },
     "execution_count": 76,
     "metadata": {},
     "output_type": "execute_result"
    }
   ],
   "source": [
    "lst = ['x', 'y', 'z']\n",
    "\n",
    "ff_list = [atm*itm for atm in lst for itm in range(1,5)]\n",
    "\n",
    "ff_list"
   ]
  },
  {
   "cell_type": "code",
   "execution_count": null,
   "metadata": {},
   "outputs": [],
   "source": [
    "#['x', 'y', 'z', 'xx', 'yy', 'zz', 'xx', 'yy', 'zz', 'xxxx', 'yyyy', 'zzzz']"
   ]
  },
  {
   "cell_type": "code",
   "execution_count": 79,
   "metadata": {},
   "outputs": [
    {
     "data": {
      "text/plain": [
       "['X', 'Y', 'Z', 'XX', 'YY', 'ZZ', 'XXX', 'YYY', 'ZZZ', 'XXXX', 'YYYY', 'ZZZZ']"
      ]
     },
     "execution_count": 79,
     "metadata": {},
     "output_type": "execute_result"
    }
   ],
   "source": [
    "lst = ['X','Y','Z']\n",
    "lst = [itm*atm for itm in range(1,5) for atm in lst]\n",
    "lst"
   ]
  },
  {
   "cell_type": "code",
   "execution_count": null,
   "metadata": {},
   "outputs": [],
   "source": [
    "#[[2], [3], [4], [3], [4], [5], [4], [5], [6]]"
   ]
  },
  {
   "cell_type": "code",
   "execution_count": 109,
   "metadata": {},
   "outputs": [
    {
     "data": {
      "text/plain": [
       "[[2], [3], [4], [3], [4], [5], [4], [5], [6]]"
      ]
     },
     "execution_count": 109,
     "metadata": {},
     "output_type": "execute_result"
    }
   ],
   "source": [
    "lst  = [2,3,4]\n",
    "lsst = [[itm + atm] for itm in lst for atm in range(0,3)]\n",
    "lsst"
   ]
  },
  {
   "cell_type": "code",
   "execution_count": null,
   "metadata": {},
   "outputs": [],
   "source": [
    "#[[2, 3, 4, 5], [3, 4, 5, 6], [4, 5, 6, 7], [5, 6, 7, 8]]"
   ]
  },
  {
   "cell_type": "code",
   "execution_count": 117,
   "metadata": {},
   "outputs": [
    {
     "data": {
      "text/plain": [
       "[[2, 3, 4, 5], [3, 4, 5, 6], [4, 5, 6, 7], [5, 6, 7, 8]]"
      ]
     },
     "execution_count": 117,
     "metadata": {},
     "output_type": "execute_result"
    }
   ],
   "source": [
    "lst = [2,3,4,5]\n",
    "lsst = [[itm+atm for itm in lst] for atm in range(0,4)]\n",
    "lsst"
   ]
  },
  {
   "cell_type": "code",
   "execution_count": null,
   "metadata": {},
   "outputs": [],
   "source": [
    "#[(1, 1), (2, 1), (3, 1), (1, 2), (2, 2), (3, 2), (1, 3), (2, 3), (3, 3)]"
   ]
  },
  {
   "cell_type": "code",
   "execution_count": 125,
   "metadata": {},
   "outputs": [
    {
     "data": {
      "text/plain": [
       "[(1, 1), (2, 1), (3, 1), (1, 2), (2, 2), (3, 2), (1, 3), (2, 3), (3, 3)]"
      ]
     },
     "execution_count": 125,
     "metadata": {},
     "output_type": "execute_result"
    }
   ],
   "source": [
    "lst = [1,2,3]\n",
    "lsst = [(ata, atm) for atm in range(1,4) for ata in lst]\n",
    "lsst"
   ]
  },
  {
   "cell_type": "code",
   "execution_count": null,
   "metadata": {},
   "outputs": [],
   "source": [
    "#Implement a function longestWord() that takes a list of words and returns the longest one"
   ]
  },
  {
   "cell_type": "code",
   "execution_count": 1,
   "metadata": {},
   "outputs": [
    {
     "name": "stdout",
     "output_type": "stream",
     "text": [
      "write out the list of words : international Enclosed apologize\n",
      "The longest word is : international witha lenth of 13\n"
     ]
    }
   ],
   "source": [
    "text = input(\"write out the list of words : \")\n",
    "long = 0\n",
    "for words in text.split():\n",
    "    if len(words) > long:\n",
    "        long = len(words)\n",
    "        longer = words\n",
    "print(\"The longest word is :\", longer, \"witha lenth of\" , long) \n"
   ]
  },
  {
   "cell_type": "code",
   "execution_count": null,
   "metadata": {},
   "outputs": [],
   "source": [
    "#Write a Python Program(with class concepts) to find the area of the triangle using the below\n",
    "#formula.\n",
    "#area = (s*(s-a)*(s-b)*(s-c)) ** 0.5\n",
    "#Function to take the length of the sides of triangle from user should be defined in the parent\n",
    "#class and function to calculate the area should be defined in subclass"
   ]
  },
  {
   "cell_type": "code",
   "execution_count": 54,
   "metadata": {},
   "outputs": [
    {
     "name": "stdout",
     "output_type": "stream",
     "text": [
      "The area of a triangle is: 416.0\n"
     ]
    }
   ],
   "source": [
    "class ParentTriangle:\n",
    "    def __init__(self,tri1,tri2,tri3):\n",
    "        self.tri1 = tri1\n",
    "        self.tri2 = tri2\n",
    "        self.tri3 = tri3\n",
    "\n",
    "class Triangle(ParentTriangle):\n",
    "    def __init__(self,*args):\n",
    "        super(Triangle,self).__init__(*args)     \n",
    "        \n",
    "    def area_tri(self):\n",
    "        s = (self.tri1 + self.tri2 + self.tri3)/2\n",
    "        return s *(s - self.tri1) * (s - self.tri2) * (s - self.tri3)** 0.5\n",
    "        \n",
    "ang = Triangle(5,9,12)\n",
    "print(\"The area of a triangle is: \" + str(ang.area_tri()))"
   ]
  },
  {
   "cell_type": "code",
   "execution_count": null,
   "metadata": {},
   "outputs": [],
   "source": [
    "#Write a function filter_long_words() that takes a list of words and an integer n and returns the list\n",
    "#of words that are longer than n."
   ]
  },
  {
   "cell_type": "code",
   "execution_count": 63,
   "metadata": {},
   "outputs": [
    {
     "name": "stdout",
     "output_type": "stream",
     "text": [
      "The longest in the list of word is : ['Amaka', 'beautiful']\n"
     ]
    }
   ],
   "source": [
    "class Longlist:\n",
    "    def __init__(self,wordlist):\n",
    "        self.wordlist = wordlist\n",
    "        \n",
    "    def list_of_words(self,n):\n",
    "        return list(filter(lambda x:len(x)> n, self.wordlist))\n",
    "    \n",
    "cage = Longlist([\"this\", \"is\" , \"Amaka\", \"the\",\"beautiful\"])\n",
    "print(\"The longest in the list of word is : \" + str(cage.list_of_words(4)))"
   ]
  },
  {
   "cell_type": "code",
   "execution_count": null,
   "metadata": {},
   "outputs": [],
   "source": [
    "#Write a Python program using function concept that maps list of words into a list of integers\n",
    "#representing the lengths of the corresponding words .\n",
    "#Hint: If a list [ ab,cde,erty] is passed on to the python function output should come as [2,3,4]\n",
    "#Here 2,3 and 4 are the lengths of the words in the list."
   ]
  },
  {
   "cell_type": "code",
   "execution_count": 3,
   "metadata": {},
   "outputs": [
    {
     "name": "stdout",
     "output_type": "stream",
     "text": [
      "The wordlist with their lengths are as follows: [4, 7, 6, 10]\n"
     ]
    }
   ],
   "source": [
    "class List_words:\n",
    "    def __init__(self,wordlist):\n",
    "        self.wordlist = wordlist\n",
    "        \n",
    "    def mapping_list(self):\n",
    "        return list(map(lambda x:len(x), self.wordlist))\n",
    "    \n",
    "tran = List_words([\"Amen\",'Nigeria','dexter',\"manupulate\"])\n",
    "print(\"The wordlist with their lengths are as follows: \" + str(tran.mapping_list()))"
   ]
  },
  {
   "cell_type": "code",
   "execution_count": null,
   "metadata": {},
   "outputs": [],
   "source": [
    "#Write a Python function which takes a character (i.e. a string of length 1) and returns True if it is\n",
    "#a vowel, False otherwise."
   ]
  },
  {
   "cell_type": "code",
   "execution_count": 1,
   "metadata": {},
   "outputs": [
    {
     "name": "stdout",
     "output_type": "stream",
     "text": [
      "Enter the characters you want to check: i\n",
      "i this is vowel\n"
     ]
    }
   ],
   "source": [
    "def vow_checker(char):\n",
    "    if (char == 'a'or char == 'e'or char == 'i'or char == 'o' or char == 'u'):\n",
    "        return True\n",
    "    else:\n",
    "        return False\n",
    "    \n",
    "char = (input(\"Enter the characters you want to check: \"))\n",
    "if (char.isalpha()== False):\n",
    "    exit()\n",
    "if (vow_checker(char)):\n",
    "    print(char, \"this is vowel\")\n",
    "else:\n",
    "    print(char, \"This is not vowel\")"
   ]
  },
  {
   "cell_type": "code",
   "execution_count": null,
   "metadata": {},
   "outputs": [],
   "source": []
  }
 ],
 "metadata": {
  "kernelspec": {
   "display_name": "Python 3",
   "language": "python",
   "name": "python3"
  },
  "language_info": {
   "codemirror_mode": {
    "name": "ipython",
    "version": 3
   },
   "file_extension": ".py",
   "mimetype": "text/x-python",
   "name": "python",
   "nbconvert_exporter": "python",
   "pygments_lexer": "ipython3",
   "version": "3.7.6"
  }
 },
 "nbformat": 4,
 "nbformat_minor": 4
}
